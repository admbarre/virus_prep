{
 "cells": [
  {
   "cell_type": "code",
   "execution_count": 1,
   "id": "066a78ca",
   "metadata": {},
   "outputs": [],
   "source": [
    "from virus import VirusPrep"
   ]
  },
  {
   "cell_type": "code",
   "execution_count": 2,
   "id": "c12dce6d",
   "metadata": {},
   "outputs": [],
   "source": [
    "test_reactions = [(\"686 L16 Ig5 ICAM\",0.512)]\n",
    "test_info = {\n",
    "    \"pcmv\": 0.6,\n",
    "    \"pmdg\": 0.526,\n",
    "    \"reactions\": test_reactions\n",
    "}"
   ]
  },
  {
   "cell_type": "code",
   "execution_count": null,
   "id": "c1d03b9b",
   "metadata": {},
   "outputs": [],
   "source": [
    "test_reactions = [\n",
    "    (\"665 L16 Ig5 PSGL1\",0.606),\n",
    "    (\"666 L16 Ig5 CD44\",0.387),\n",
    "    (\"668 L16 Ig5 QKRR\",0.578),\n",
    "    (\"683 L16 Ig5 B1\",0.986),\n",
    "    (\"684 L16 Ig5 B2\",0.380),\n",
    "    (\"686 L16 Ig5 ICAM\",0.512)\n",
    "]\n",
    "test_info = {\n",
    "    \"pcmv\": 0.6,\n",
    "    \"pmdg\": 0.526,\n",
    "    \"reactions\": test_reactions\n",
    "}"
   ]
  },
  {
   "cell_type": "code",
   "execution_count": 3,
   "id": "c7586c2a",
   "metadata": {},
   "outputs": [
    {
     "name": "stdout",
     "output_type": "stream",
     "text": [
      "pmdg *** Vol too small. Add 1ul stock plasmid to 4ul of optimem.\n",
      "Use this diluted version.\n",
      "Virus Prep\n",
      "------------------------\n",
      "TFX reagent Mix:\n",
      "+ 6.24ul TFX\n",
      "+ 182.76ul Optimem\n",
      "------------------------\n",
      "Packaging Master Mix:\n",
      "+ 1.54ul pCMV\n",
      "+ 1.10ul pMDG\n",
      "+ 18.36ul Optimem\n",
      "------------------------\n",
      "Transfer Vector:\n",
      "+ 2.0ul 686 L16 Ig5 ICAM\n",
      "------------------------\n",
      "Add transfer vector volumes to each tube.\n",
      "Add 20ul of Master Mix to each tube.\n",
      "Add 180ul of TFX mix to each tube.\n",
      "Wait 15-60 minutes at room temperature.\n",
      "Add mixture dropwise to cells.\n"
     ]
    }
   ],
   "source": [
    "VirusPrep(test_info).generate_instructions()"
   ]
  }
 ],
 "metadata": {
  "kernelspec": {
   "display_name": "Python 3 (ipykernel)",
   "language": "python",
   "name": "python3"
  },
  "language_info": {
   "codemirror_mode": {
    "name": "ipython",
    "version": 3
   },
   "file_extension": ".py",
   "mimetype": "text/x-python",
   "name": "python",
   "nbconvert_exporter": "python",
   "pygments_lexer": "ipython3",
   "version": "3.9.17"
  }
 },
 "nbformat": 4,
 "nbformat_minor": 5
}
